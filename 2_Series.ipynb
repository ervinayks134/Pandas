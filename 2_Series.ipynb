{
 "cells": [
  {
   "cell_type": "markdown",
   "id": "adfb3f52-8c09-42c1-8869-b9667419f4c9",
   "metadata": {},
   "source": [
    "# Pandas Series (1D)"
   ]
  },
  {
   "cell_type": "code",
   "execution_count": 3,
   "id": "ae8259da-33d1-424b-976b-821963867bc9",
   "metadata": {},
   "outputs": [],
   "source": [
    "import pandas as pd"
   ]
  },
  {
   "cell_type": "code",
   "execution_count": 57,
   "id": "2e890a19-a2de-47ab-a16e-f3aeb4c26c23",
   "metadata": {},
   "outputs": [
    {
     "data": {
      "text/plain": [
       "0    1\n",
       "1    2\n",
       "2    3\n",
       "3    4\n",
       "4    5\n",
       "dtype: int64"
      ]
     },
     "execution_count": 57,
     "metadata": {},
     "output_type": "execute_result"
    }
   ],
   "source": [
    "list = [1,2,3,4,5]\n",
    "S = pd.Series(list)\n",
    "S\n"
   ]
  },
  {
   "cell_type": "markdown",
   "id": "7972adfe-6ad9-442b-9269-cbd4dbb86508",
   "metadata": {},
   "source": [
    "# Basic Methods for Series"
   ]
  },
  {
   "cell_type": "code",
   "execution_count": 67,
   "id": "57e14a30-ae75-4fe4-acec-ca2020399d32",
   "metadata": {},
   "outputs": [
    {
     "data": {
      "text/plain": [
       "0    1\n",
       "1    2\n",
       "2    3\n",
       "3    4\n",
       "4    5\n",
       "dtype: int64"
      ]
     },
     "execution_count": 67,
     "metadata": {},
     "output_type": "execute_result"
    }
   ],
   "source": [
    "S.head()"
   ]
  },
  {
   "cell_type": "code",
   "execution_count": 71,
   "id": "3558f563-ba1c-444e-bc9e-df4930730bfb",
   "metadata": {},
   "outputs": [
    {
     "data": {
      "text/plain": [
       "3    4\n",
       "4    5\n",
       "dtype: int64"
      ]
     },
     "execution_count": 71,
     "metadata": {},
     "output_type": "execute_result"
    }
   ],
   "source": [
    "S.tail()"
   ]
  },
  {
   "cell_type": "code",
   "execution_count": 73,
   "id": "02e1d6ac-8874-4bba-9ee4-b66889eacc6a",
   "metadata": {},
   "outputs": [
    {
     "data": {
      "text/plain": [
       "3    4\n",
       "2    3\n",
       "0    1\n",
       "dtype: int64"
      ]
     },
     "execution_count": 73,
     "metadata": {},
     "output_type": "execute_result"
    }
   ],
   "source": [
    "S.sample(n=3)"
   ]
  },
  {
   "cell_type": "code",
   "execution_count": 5,
   "id": "b26e232f-2e2a-4c38-ad1f-93729fd17095",
   "metadata": {},
   "outputs": [
    {
     "data": {
      "text/plain": [
       "5"
      ]
     },
     "execution_count": 5,
     "metadata": {},
     "output_type": "execute_result"
    }
   ],
   "source": [
    "S.size"
   ]
  },
  {
   "cell_type": "code",
   "execution_count": 6,
   "id": "64f29706-4c2a-453b-b717-fe18976fc0fb",
   "metadata": {},
   "outputs": [
    {
     "data": {
      "text/plain": [
       "(5,)"
      ]
     },
     "execution_count": 6,
     "metadata": {},
     "output_type": "execute_result"
    }
   ],
   "source": [
    "S.shape"
   ]
  },
  {
   "cell_type": "code",
   "execution_count": 7,
   "id": "9f933916-7a1d-4d1a-abb0-9f9e43ef48b1",
   "metadata": {},
   "outputs": [
    {
     "data": {
      "text/plain": [
       "dtype('int64')"
      ]
     },
     "execution_count": 7,
     "metadata": {},
     "output_type": "execute_result"
    }
   ],
   "source": [
    "S.dtype"
   ]
  },
  {
   "cell_type": "code",
   "execution_count": 8,
   "id": "3be3a0fe-d8ec-4a39-82df-b2a5f68e5e93",
   "metadata": {},
   "outputs": [
    {
     "data": {
      "text/plain": [
       "RangeIndex(start=0, stop=5, step=1)"
      ]
     },
     "execution_count": 8,
     "metadata": {},
     "output_type": "execute_result"
    }
   ],
   "source": [
    "S.index"
   ]
  },
  {
   "cell_type": "code",
   "execution_count": 9,
   "id": "c2c3794d-63cd-4147-86a4-7e7f8ade065d",
   "metadata": {},
   "outputs": [
    {
     "data": {
      "text/plain": [
       "array([1, 2, 3, 4, 5], dtype=int64)"
      ]
     },
     "execution_count": 9,
     "metadata": {},
     "output_type": "execute_result"
    }
   ],
   "source": [
    "S.values"
   ]
  },
  {
   "cell_type": "code",
   "execution_count": 10,
   "id": "0f1db727-c777-41b0-8bf0-3b5b4f818e24",
   "metadata": {},
   "outputs": [
    {
     "data": {
      "text/plain": [
       "False"
      ]
     },
     "execution_count": 10,
     "metadata": {},
     "output_type": "execute_result"
    }
   ],
   "source": [
    "S.empty #This give True is series is empty"
   ]
  },
  {
   "cell_type": "code",
   "execution_count": 11,
   "id": "e94889a3-5ecd-42ef-b459-e59976845af0",
   "metadata": {},
   "outputs": [
    {
     "data": {
      "text/plain": [
       "1"
      ]
     },
     "execution_count": 11,
     "metadata": {},
     "output_type": "execute_result"
    }
   ],
   "source": [
    "S.ndim"
   ]
  },
  {
   "cell_type": "code",
   "execution_count": 12,
   "id": "6d6b7978-b616-49e1-b955-3c8b229a91ab",
   "metadata": {},
   "outputs": [],
   "source": [
    "S.name"
   ]
  },
  {
   "cell_type": "code",
   "execution_count": 13,
   "id": "c419e2d5-b8b2-485c-b9a2-ce99edd5571e",
   "metadata": {},
   "outputs": [
    {
     "data": {
      "text/plain": [
       "False"
      ]
     },
     "execution_count": 13,
     "metadata": {},
     "output_type": "execute_result"
    }
   ],
   "source": [
    "S.hasnans #This return True if series has NAN values"
   ]
  },
  {
   "cell_type": "code",
   "execution_count": 16,
   "id": "21705bda-8afd-4bae-b28b-6d8a990b34d8",
   "metadata": {},
   "outputs": [
    {
     "data": {
      "text/plain": [
       "True"
      ]
     },
     "execution_count": 16,
     "metadata": {},
     "output_type": "execute_result"
    }
   ],
   "source": [
    "S.index.is_unique"
   ]
  },
  {
   "cell_type": "code",
   "execution_count": 17,
   "id": "c405a0af-99df-4626-8695-3f465652b4ea",
   "metadata": {},
   "outputs": [
    {
     "data": {
      "text/plain": [
       "array([1, 2, 3, 4, 5], dtype=int64)"
      ]
     },
     "execution_count": 17,
     "metadata": {},
     "output_type": "execute_result"
    }
   ],
   "source": [
    "S.unique()"
   ]
  },
  {
   "cell_type": "code",
   "execution_count": 18,
   "id": "5b530aa2-0989-4d0a-8ffb-17ac33e65150",
   "metadata": {},
   "outputs": [
    {
     "data": {
      "text/plain": [
       "1    1\n",
       "2    1\n",
       "3    1\n",
       "4    1\n",
       "5    1\n",
       "Name: count, dtype: int64"
      ]
     },
     "execution_count": 18,
     "metadata": {},
     "output_type": "execute_result"
    }
   ],
   "source": [
    "S.value_counts()"
   ]
  },
  {
   "cell_type": "code",
   "execution_count": 19,
   "id": "92b0fa2c-0037-4d1e-8aa0-2a9a70e16194",
   "metadata": {},
   "outputs": [
    {
     "data": {
      "text/plain": [
       "<bound method Series.count of 0    1\n",
       "1    2\n",
       "2    3\n",
       "3    4\n",
       "4    5\n",
       "dtype: int64>"
      ]
     },
     "execution_count": 19,
     "metadata": {},
     "output_type": "execute_result"
    }
   ],
   "source": [
    "S.count"
   ]
  },
  {
   "cell_type": "code",
   "execution_count": 80,
   "id": "e094ec90-5b0e-4079-b033-6d050edd7741",
   "metadata": {},
   "outputs": [
    {
     "data": {
      "text/plain": [
       "0    1.0\n",
       "1    2.0\n",
       "2    3.0\n",
       "3    4.0\n",
       "4    5.0\n",
       "dtype: float64"
      ]
     },
     "execution_count": 80,
     "metadata": {},
     "output_type": "execute_result"
    }
   ],
   "source": [
    "S.astype(float) #to convert the data type of choice"
   ]
  },
  {
   "cell_type": "code",
   "execution_count": 89,
   "id": "a2d9f236-fd84-4c76-a7cb-7f3dfcd8adf1",
   "metadata": {},
   "outputs": [
    {
     "data": {
      "text/plain": [
       "0     True\n",
       "1     True\n",
       "2     True\n",
       "3    False\n",
       "4    False\n",
       "dtype: bool"
      ]
     },
     "execution_count": 89,
     "metadata": {},
     "output_type": "execute_result"
    }
   ],
   "source": [
    "S.isin([1,2,3])"
   ]
  },
  {
   "cell_type": "code",
   "execution_count": 120,
   "id": "b9b64e2d-31dc-4a6e-b31e-ef71267c4775",
   "metadata": {},
   "outputs": [
    {
     "data": {
      "text/plain": [
       "5"
      ]
     },
     "execution_count": 120,
     "metadata": {},
     "output_type": "execute_result"
    }
   ],
   "source": [
    "len(S)"
   ]
  },
  {
   "cell_type": "code",
   "execution_count": 130,
   "id": "f3d0aae9-af22-49b5-9085-a86a3cf6853e",
   "metadata": {},
   "outputs": [
    {
     "data": {
      "text/plain": [
       "0    0\n",
       "1    1\n",
       "2    2\n",
       "3    3\n",
       "4    4\n",
       "dtype: int64"
      ]
     },
     "execution_count": 130,
     "metadata": {},
     "output_type": "execute_result"
    }
   ],
   "source": [
    "S.argsort() #Sort in ascending order"
   ]
  },
  {
   "cell_type": "code",
   "execution_count": 220,
   "id": "3fafdb25-e0e2-4444-9e1d-6968f0a68aea",
   "metadata": {},
   "outputs": [
    {
     "data": {
      "text/plain": [
       "0    False\n",
       "1    False\n",
       "2    False\n",
       "3    False\n",
       "4    False\n",
       "dtype: bool"
      ]
     },
     "execution_count": 220,
     "metadata": {},
     "output_type": "execute_result"
    }
   ],
   "source": [
    "S.duplicated() # Returns a boolean Series indicating if an element is duplicated."
   ]
  },
  {
   "cell_type": "markdown",
   "id": "73ea2b32-f0c5-4846-8b4f-166de7205ad5",
   "metadata": {},
   "source": [
    "# Aggregation Method"
   ]
  },
  {
   "cell_type": "code",
   "execution_count": 78,
   "id": "acf1104d-42ae-47a3-a502-be0edc6ef331",
   "metadata": {},
   "outputs": [
    {
     "data": {
      "text/plain": [
       "15"
      ]
     },
     "execution_count": 78,
     "metadata": {},
     "output_type": "execute_result"
    }
   ],
   "source": [
    "S.sum()"
   ]
  },
  {
   "cell_type": "code",
   "execution_count": 20,
   "id": "bc8d54e6-e637-4e97-8e29-05b91dc95244",
   "metadata": {},
   "outputs": [
    {
     "data": {
      "text/plain": [
       "3.0"
      ]
     },
     "execution_count": 20,
     "metadata": {},
     "output_type": "execute_result"
    }
   ],
   "source": [
    "S.mean()"
   ]
  },
  {
   "cell_type": "code",
   "execution_count": 83,
   "id": "d39ef0c8-d0ba-4a7f-a470-17b0249df376",
   "metadata": {},
   "outputs": [
    {
     "data": {
      "text/plain": [
       "3.0"
      ]
     },
     "execution_count": 83,
     "metadata": {},
     "output_type": "execute_result"
    }
   ],
   "source": [
    "S.median()"
   ]
  },
  {
   "cell_type": "code",
   "execution_count": 21,
   "id": "a77ce8da-c4e7-4244-b6da-e661836727f0",
   "metadata": {},
   "outputs": [
    {
     "data": {
      "text/plain": [
       "0    1\n",
       "1    2\n",
       "2    3\n",
       "3    4\n",
       "4    5\n",
       "dtype: int64"
      ]
     },
     "execution_count": 21,
     "metadata": {},
     "output_type": "execute_result"
    }
   ],
   "source": [
    "S.mode()"
   ]
  },
  {
   "cell_type": "code",
   "execution_count": 22,
   "id": "9c8f9fc4-4259-4319-a072-9c13f95976ff",
   "metadata": {},
   "outputs": [
    {
     "data": {
      "text/plain": [
       "5"
      ]
     },
     "execution_count": 22,
     "metadata": {},
     "output_type": "execute_result"
    }
   ],
   "source": [
    "S.max()"
   ]
  },
  {
   "cell_type": "code",
   "execution_count": 23,
   "id": "63379630-37c6-42d4-9c96-da1f82db3fa1",
   "metadata": {},
   "outputs": [
    {
     "data": {
      "text/plain": [
       "1"
      ]
     },
     "execution_count": 23,
     "metadata": {},
     "output_type": "execute_result"
    }
   ],
   "source": [
    "S.min()"
   ]
  },
  {
   "cell_type": "code",
   "execution_count": 24,
   "id": "f111f740-4b8e-4f59-926e-3694e0a701a8",
   "metadata": {},
   "outputs": [
    {
     "data": {
      "text/plain": [
       "2.5"
      ]
     },
     "execution_count": 24,
     "metadata": {},
     "output_type": "execute_result"
    }
   ],
   "source": [
    "S.var()"
   ]
  },
  {
   "cell_type": "code",
   "execution_count": 25,
   "id": "27062bcd-1a1a-430b-9432-8b373793f728",
   "metadata": {},
   "outputs": [
    {
     "data": {
      "text/plain": [
       "1.5811388300841898"
      ]
     },
     "execution_count": 25,
     "metadata": {},
     "output_type": "execute_result"
    }
   ],
   "source": [
    "S.std()"
   ]
  },
  {
   "cell_type": "code",
   "execution_count": 26,
   "id": "abe59b1d-7625-460c-97b6-e500915f3377",
   "metadata": {},
   "outputs": [
    {
     "data": {
      "text/plain": [
       "0    NaN\n",
       "1    1.0\n",
       "2    1.0\n",
       "3    1.0\n",
       "4    1.0\n",
       "dtype: float64"
      ]
     },
     "execution_count": 26,
     "metadata": {},
     "output_type": "execute_result"
    }
   ],
   "source": [
    "S.diff()"
   ]
  },
  {
   "cell_type": "code",
   "execution_count": 85,
   "id": "6b5f5c8a-b049-4fe1-bd88-ff0dca7c1625",
   "metadata": {},
   "outputs": [
    {
     "data": {
      "text/plain": [
       "0      1\n",
       "1      2\n",
       "2      6\n",
       "3     24\n",
       "4    120\n",
       "dtype: int64"
      ]
     },
     "execution_count": 85,
     "metadata": {},
     "output_type": "execute_result"
    }
   ],
   "source": [
    "S.cumprod()"
   ]
  },
  {
   "cell_type": "code",
   "execution_count": 87,
   "id": "ded7e1b8-6cd6-4fbf-bba2-7361cba6f7d7",
   "metadata": {},
   "outputs": [
    {
     "data": {
      "text/plain": [
       "0     1\n",
       "1     3\n",
       "2     6\n",
       "3    10\n",
       "4    15\n",
       "dtype: int64"
      ]
     },
     "execution_count": 87,
     "metadata": {},
     "output_type": "execute_result"
    }
   ],
   "source": [
    "S.cumsum()"
   ]
  },
  {
   "cell_type": "markdown",
   "id": "2e3ffc4e-3345-47a2-beaa-a3f7fe8b38e4",
   "metadata": {},
   "source": [
    "# String Methods (if Series contains strings)"
   ]
  },
  {
   "cell_type": "code",
   "execution_count": 98,
   "id": "89c6cf72-f5fd-4e32-a1c8-c74d793fdbe1",
   "metadata": {},
   "outputs": [
    {
     "data": {
      "text/plain": [
       "0    a\n",
       "1    b\n",
       "2    c\n",
       "3    d\n",
       "4    e\n",
       "dtype: object"
      ]
     },
     "execution_count": 98,
     "metadata": {},
     "output_type": "execute_result"
    }
   ],
   "source": [
    "S1 = pd.Series(['a','b','c','d','e'])\n",
    "S1"
   ]
  },
  {
   "cell_type": "code",
   "execution_count": 100,
   "id": "9aac3e9c-75f0-4cca-8c1d-2e97831044b1",
   "metadata": {},
   "outputs": [
    {
     "data": {
      "text/plain": [
       "0    A\n",
       "1    B\n",
       "2    C\n",
       "3    D\n",
       "4    E\n",
       "dtype: object"
      ]
     },
     "execution_count": 100,
     "metadata": {},
     "output_type": "execute_result"
    }
   ],
   "source": [
    "S1.str.upper() # This only works if series has str values "
   ]
  },
  {
   "cell_type": "code",
   "execution_count": 102,
   "id": "621fe6c6-b30f-4003-b79a-17f2d816477b",
   "metadata": {},
   "outputs": [
    {
     "data": {
      "text/plain": [
       "0    a\n",
       "1    b\n",
       "2    c\n",
       "3    d\n",
       "4    e\n",
       "dtype: object"
      ]
     },
     "execution_count": 102,
     "metadata": {},
     "output_type": "execute_result"
    }
   ],
   "source": [
    "S1.str.lower()"
   ]
  },
  {
   "cell_type": "code",
   "execution_count": 106,
   "id": "b45c53bf-defe-4bb1-8c1b-c7d4817c5269",
   "metadata": {},
   "outputs": [
    {
     "data": {
      "text/plain": [
       "0    a\n",
       "1    b\n",
       "2    c\n",
       "3    d\n",
       "4    e\n",
       "dtype: object"
      ]
     },
     "execution_count": 106,
     "metadata": {},
     "output_type": "execute_result"
    }
   ],
   "source": [
    "S1.str.strip()"
   ]
  },
  {
   "cell_type": "code",
   "execution_count": 108,
   "id": "d1c7c74b-e7f9-43e8-be12-ff5b7388fe1e",
   "metadata": {},
   "outputs": [
    {
     "data": {
      "text/plain": [
       "0    z\n",
       "1    b\n",
       "2    c\n",
       "3    d\n",
       "4    e\n",
       "dtype: object"
      ]
     },
     "execution_count": 108,
     "metadata": {},
     "output_type": "execute_result"
    }
   ],
   "source": [
    "S1.str.replace('a','z')"
   ]
  },
  {
   "cell_type": "code",
   "execution_count": 110,
   "id": "ad05b09d-5d6f-474e-8d36-030afd44b0a2",
   "metadata": {},
   "outputs": [
    {
     "data": {
      "text/plain": [
       "0    [a]\n",
       "1    [b]\n",
       "2    [c]\n",
       "3    [d]\n",
       "4    [e]\n",
       "dtype: object"
      ]
     },
     "execution_count": 110,
     "metadata": {},
     "output_type": "execute_result"
    }
   ],
   "source": [
    "S1.str.split()"
   ]
  },
  {
   "cell_type": "code",
   "execution_count": 128,
   "id": "1f053138-cf29-4f67-99a7-b78597d4a64a",
   "metadata": {},
   "outputs": [
    {
     "data": {
      "text/plain": [
       "0    1\n",
       "1    1\n",
       "2    1\n",
       "3    1\n",
       "4    1\n",
       "dtype: int64"
      ]
     },
     "execution_count": 128,
     "metadata": {},
     "output_type": "execute_result"
    }
   ],
   "source": [
    "S1.str.len()"
   ]
  },
  {
   "cell_type": "code",
   "execution_count": 134,
   "id": "a223b848-df90-452c-8489-307c957cdc15",
   "metadata": {},
   "outputs": [
    {
     "data": {
      "text/plain": [
       "0     True\n",
       "1    False\n",
       "2    False\n",
       "3    False\n",
       "4    False\n",
       "dtype: bool"
      ]
     },
     "execution_count": 134,
     "metadata": {},
     "output_type": "execute_result"
    }
   ],
   "source": [
    "S1.str.contains('a') #  Checks if a pattern is present in each element of the Series (useful for text data)."
   ]
  },
  {
   "cell_type": "markdown",
   "id": "41050185-c0dd-491e-8248-acf419fddc40",
   "metadata": {},
   "source": [
    "# Indexing and Selection"
   ]
  },
  {
   "cell_type": "code",
   "execution_count": 139,
   "id": "cdbd062f-49e7-48e4-bf3b-17f2e449ccca",
   "metadata": {},
   "outputs": [
    {
     "data": {
      "text/plain": [
       "1"
      ]
     },
     "execution_count": 139,
     "metadata": {},
     "output_type": "execute_result"
    }
   ],
   "source": [
    "S[0] # Indexing to select a specific element by its label."
   ]
  },
  {
   "cell_type": "code",
   "execution_count": 143,
   "id": "4843bcd5-c99a-4d1a-9281-32e927e2053e",
   "metadata": {},
   "outputs": [
    {
     "data": {
      "text/plain": [
       "3"
      ]
     },
     "execution_count": 143,
     "metadata": {},
     "output_type": "execute_result"
    }
   ],
   "source": [
    "S.iloc[2] # Selects by position (integer-based indexing)."
   ]
  },
  {
   "cell_type": "code",
   "execution_count": 161,
   "id": "8a7a2f81-bf22-466b-811c-d756782ef2b2",
   "metadata": {},
   "outputs": [
    {
     "data": {
      "text/plain": [
       "A    1\n",
       "B    2\n",
       "C    3\n",
       "D    4\n",
       "E    5\n",
       "dtype: int64"
      ]
     },
     "execution_count": 161,
     "metadata": {},
     "output_type": "execute_result"
    }
   ],
   "source": [
    "S2 = pd.Series([1,2,3,4,5], index = ['A','B','C','D','E'])\n",
    "S2"
   ]
  },
  {
   "cell_type": "code",
   "execution_count": 163,
   "id": "93e205c7-894a-4398-bc87-4e09c65ff3c0",
   "metadata": {},
   "outputs": [
    {
     "data": {
      "text/plain": [
       "2"
      ]
     },
     "execution_count": 163,
     "metadata": {},
     "output_type": "execute_result"
    }
   ],
   "source": [
    "S2.loc['B'] # Selects by label (index-based)."
   ]
  },
  {
   "cell_type": "code",
   "execution_count": 171,
   "id": "2aeb1ecd-38af-4a11-8502-70238502ac31",
   "metadata": {},
   "outputs": [
    {
     "data": {
      "text/plain": [
       "0"
      ]
     },
     "execution_count": 171,
     "metadata": {},
     "output_type": "execute_result"
    }
   ],
   "source": [
    "S.get([6], default=0) # Gets the element at the specified index or returns a default value if the index is not found."
   ]
  },
  {
   "cell_type": "markdown",
   "id": "4abeee4b-8461-4d97-bbad-88cacb1bf884",
   "metadata": {},
   "source": [
    "# Element-wise Methods"
   ]
  },
  {
   "cell_type": "code",
   "execution_count": 174,
   "id": "1e5f0796-af49-4c48-8191-28a49f337590",
   "metadata": {},
   "outputs": [
    {
     "data": {
      "text/plain": [
       "0     1\n",
       "1     4\n",
       "2     9\n",
       "3    16\n",
       "4    25\n",
       "dtype: int64"
      ]
     },
     "execution_count": 174,
     "metadata": {},
     "output_type": "execute_result"
    }
   ],
   "source": [
    "S.apply(lambda x: x ** 2)"
   ]
  },
  {
   "cell_type": "code",
   "execution_count": 178,
   "id": "5558a422-1ef8-4c40-9f5b-2d1a5b0e3482",
   "metadata": {},
   "outputs": [
    {
     "data": {
      "text/plain": [
       "0      one\n",
       "1      two\n",
       "2    three\n",
       "3     four\n",
       "4     five\n",
       "dtype: object"
      ]
     },
     "execution_count": 178,
     "metadata": {},
     "output_type": "execute_result"
    }
   ],
   "source": [
    "S.map({1: \"one\", 2: \"two\", 3: \"three\", 4:'four', 5:'five'}) #Maps values in the Series according to a mapping (dictionary or function)."
   ]
  },
  {
   "cell_type": "markdown",
   "id": "24cc6b94-0dfd-4b56-b73a-5cc368094cf6",
   "metadata": {},
   "source": [
    "# NaN Handling Methods"
   ]
  },
  {
   "cell_type": "code",
   "execution_count": 185,
   "id": "26d5e72b-8f5d-49cf-935b-b7f4660337c8",
   "metadata": {},
   "outputs": [
    {
     "data": {
      "text/plain": [
       "0    False\n",
       "1    False\n",
       "2    False\n",
       "3    False\n",
       "4    False\n",
       "dtype: bool"
      ]
     },
     "execution_count": 185,
     "metadata": {},
     "output_type": "execute_result"
    }
   ],
   "source": [
    "S.isnull() #Returns a boolean Series indicating if the elements are NaN."
   ]
  },
  {
   "cell_type": "code",
   "execution_count": 189,
   "id": "0e85b468-0035-4357-9829-43af15304047",
   "metadata": {},
   "outputs": [
    {
     "data": {
      "text/plain": [
       "0    True\n",
       "1    True\n",
       "2    True\n",
       "3    True\n",
       "4    True\n",
       "dtype: bool"
      ]
     },
     "execution_count": 189,
     "metadata": {},
     "output_type": "execute_result"
    }
   ],
   "source": [
    "S.notnull() # Returns a boolean Series indicating if the elements are not NaN."
   ]
  },
  {
   "cell_type": "code",
   "execution_count": 193,
   "id": "54fa3be5-f32e-43c9-8291-9071281d3cfe",
   "metadata": {},
   "outputs": [
    {
     "data": {
      "text/plain": [
       "0    1\n",
       "1    2\n",
       "2    3\n",
       "3    4\n",
       "4    5\n",
       "dtype: int64"
      ]
     },
     "execution_count": 193,
     "metadata": {},
     "output_type": "execute_result"
    }
   ],
   "source": [
    "S.fillna(100) # Replaces NaN values with a specified value."
   ]
  },
  {
   "cell_type": "code",
   "execution_count": 195,
   "id": "d41cffbf-ea69-4ea6-abfd-e4b269390361",
   "metadata": {},
   "outputs": [
    {
     "data": {
      "text/plain": [
       "0    1\n",
       "1    2\n",
       "2    3\n",
       "3    4\n",
       "4    5\n",
       "dtype: int64"
      ]
     },
     "execution_count": 195,
     "metadata": {},
     "output_type": "execute_result"
    }
   ],
   "source": [
    "S.dropna() # Removes NaN values from the Series."
   ]
  },
  {
   "cell_type": "code",
   "execution_count": 203,
   "id": "1fe9a385-8a92-4aca-9958-9935a0a30181",
   "metadata": {},
   "outputs": [
    {
     "name": "stderr",
     "output_type": "stream",
     "text": [
      "C:\\Users\\karti\\AppData\\Local\\Temp\\ipykernel_8884\\1572752095.py:1: FutureWarning: The 'downcast' keyword in Series.interpolate is deprecated and will be removed in a future version. Call result.infer_objects(copy=False) on the result instead.\n",
      "  S.interpolate(method='linear', axis=0, limit=None, limit_direction='forward', limit_area=None, downcast=None) #Interpolates missing values.\n"
     ]
    },
    {
     "data": {
      "text/plain": [
       "0    1\n",
       "1    2\n",
       "2    3\n",
       "3    4\n",
       "4    5\n",
       "dtype: int64"
      ]
     },
     "execution_count": 203,
     "metadata": {},
     "output_type": "execute_result"
    }
   ],
   "source": [
    "S.interpolate(method='linear', axis=0, limit=None, limit_direction='forward', limit_area=None, downcast=None) #Interpolates missing values."
   ]
  },
  {
   "cell_type": "markdown",
   "id": "3e2d2bec-89e3-4717-8018-62e47cb8ec87",
   "metadata": {},
   "source": [
    "# Mathematical Operations"
   ]
  },
  {
   "cell_type": "code",
   "execution_count": 208,
   "id": "b5577906-f5a8-44d6-9796-dce1676b7231",
   "metadata": {},
   "outputs": [
    {
     "data": {
      "text/plain": [
       "0     6\n",
       "1     7\n",
       "2     8\n",
       "3     9\n",
       "4    10\n",
       "dtype: int64"
      ]
     },
     "execution_count": 208,
     "metadata": {},
     "output_type": "execute_result"
    }
   ],
   "source": [
    "S.add(5)"
   ]
  },
  {
   "cell_type": "code",
   "execution_count": 210,
   "id": "4ab49160-dbec-4fae-b7c1-0a93b626aafd",
   "metadata": {},
   "outputs": [
    {
     "data": {
      "text/plain": [
       "0   -4\n",
       "1   -3\n",
       "2   -2\n",
       "3   -1\n",
       "4    0\n",
       "dtype: int64"
      ]
     },
     "execution_count": 210,
     "metadata": {},
     "output_type": "execute_result"
    }
   ],
   "source": [
    "S.sub(5)"
   ]
  },
  {
   "cell_type": "code",
   "execution_count": 212,
   "id": "f6170434-3b8f-4b19-9ed6-f5171b14a574",
   "metadata": {},
   "outputs": [
    {
     "data": {
      "text/plain": [
       "0     5\n",
       "1    10\n",
       "2    15\n",
       "3    20\n",
       "4    25\n",
       "dtype: int64"
      ]
     },
     "execution_count": 212,
     "metadata": {},
     "output_type": "execute_result"
    }
   ],
   "source": [
    "S.mul(5)"
   ]
  },
  {
   "cell_type": "code",
   "execution_count": 214,
   "id": "81934b19-175e-440f-8aa2-2d6bd7077bda",
   "metadata": {},
   "outputs": [
    {
     "data": {
      "text/plain": [
       "0    0.2\n",
       "1    0.4\n",
       "2    0.6\n",
       "3    0.8\n",
       "4    1.0\n",
       "dtype: float64"
      ]
     },
     "execution_count": 214,
     "metadata": {},
     "output_type": "execute_result"
    }
   ],
   "source": [
    "S.div(5)"
   ]
  },
  {
   "cell_type": "code",
   "execution_count": 216,
   "id": "af8b9a52-57f4-4b2e-af3c-629ba6cf26e6",
   "metadata": {},
   "outputs": [
    {
     "data": {
      "text/plain": [
       "0     1\n",
       "1     4\n",
       "2     9\n",
       "3    16\n",
       "4    25\n",
       "dtype: int64"
      ]
     },
     "execution_count": 216,
     "metadata": {},
     "output_type": "execute_result"
    }
   ],
   "source": [
    "S.pow(2)"
   ]
  },
  {
   "cell_type": "code",
   "execution_count": null,
   "id": "6b4837db-25fd-4575-a4ec-83bcd501f5a7",
   "metadata": {},
   "outputs": [],
   "source": []
  }
 ],
 "metadata": {
  "kernelspec": {
   "display_name": "Python 3 (ipykernel)",
   "language": "python",
   "name": "python3"
  },
  "language_info": {
   "codemirror_mode": {
    "name": "ipython",
    "version": 3
   },
   "file_extension": ".py",
   "mimetype": "text/x-python",
   "name": "python",
   "nbconvert_exporter": "python",
   "pygments_lexer": "ipython3",
   "version": "3.12.4"
  }
 },
 "nbformat": 4,
 "nbformat_minor": 5
}
