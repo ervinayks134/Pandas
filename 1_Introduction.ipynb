{
 "cells": [
  {
   "cell_type": "markdown",
   "id": "3d4c282b-ede5-4562-b893-5b676fa08e62",
   "metadata": {},
   "source": [
    "# What is Pandas?"
   ]
  },
  {
   "cell_type": "markdown",
   "id": "80474e5e-5681-4999-a841-e07b6c85f469",
   "metadata": {},
   "source": [
    "Pandas is a Python library used for data manipulation and analysis. It provides data structures like Series (1D) and DataFrame (2D), Panel (3D) which allow you to efficiently store, manipulate, and analyze structured data."
   ]
  },
  {
   "cell_type": "markdown",
   "id": "d3378334-e68b-45bc-a55a-83bd305eae26",
   "metadata": {},
   "source": [
    "# Installing Pandas"
   ]
  },
  {
   "cell_type": "markdown",
   "id": "7d5383b7-a9d6-4465-97ed-b171a55e4851",
   "metadata": {},
   "source": [
    "To start using Pandas, you need to install it. You can do this using pip:\n",
    "\n",
    "pip install pandas"
   ]
  },
  {
   "cell_type": "markdown",
   "id": "4353f04e-6c3a-41fd-80cb-f36d287c3a42",
   "metadata": {},
   "source": [
    "# Importing Pandas"
   ]
  },
  {
   "cell_type": "markdown",
   "id": "4fb0e14e-1aaa-46d4-8ab9-56b4db0e46ba",
   "metadata": {},
   "source": [
    "import pandas as pd"
   ]
  },
  {
   "cell_type": "code",
   "execution_count": null,
   "id": "826e1d30-3087-44a5-bcd7-d52cd35f452c",
   "metadata": {},
   "outputs": [],
   "source": []
  }
 ],
 "metadata": {
  "kernelspec": {
   "display_name": "Python 3 (ipykernel)",
   "language": "python",
   "name": "python3"
  },
  "language_info": {
   "codemirror_mode": {
    "name": "ipython",
    "version": 3
   },
   "file_extension": ".py",
   "mimetype": "text/x-python",
   "name": "python",
   "nbconvert_exporter": "python",
   "pygments_lexer": "ipython3",
   "version": "3.12.4"
  }
 },
 "nbformat": 4,
 "nbformat_minor": 5
}
